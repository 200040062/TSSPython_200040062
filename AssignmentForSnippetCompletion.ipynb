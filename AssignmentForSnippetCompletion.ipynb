{
  "nbformat": 4,
  "nbformat_minor": 5,
  "metadata": {
    "kernelspec": {
      "name": "python3",
      "display_name": "Python 3",
      "language": "python"
    },
    "language_info": {
      "name": "python",
      "version": "3.6.13",
      "mimetype": "text/x-python",
      "codemirror_mode": {
        "name": "ipython",
        "version": 3
      },
      "pygments_lexer": "ipython3",
      "nbconvert_exporter": "python",
      "file_extension": ".py"
    },
    "colab": {
      "name": "AssignmentForSnippetCompletion.ipynb",
      "provenance": [],
      "include_colab_link": true
    }
  },
  "cells": [
    {
      "cell_type": "markdown",
      "metadata": {
        "id": "view-in-github",
        "colab_type": "text"
      },
      "source": [
        "<a href=\"https://colab.research.google.com/github/200040062/TSSPython_200040062/blob/main/AssignmentForSnippetCompletion.ipynb\" target=\"_parent\"><img src=\"https://colab.research.google.com/assets/colab-badge.svg\" alt=\"Open In Colab\"/></a>"
      ]
    },
    {
      "cell_type": "markdown",
      "metadata": {
        "id": "mwY8-ebWnn8k"
      },
      "source": [
        "# Assignment: Complete the Snippet\n"
      ],
      "id": "mwY8-ebWnn8k"
    },
    {
      "cell_type": "markdown",
      "metadata": {
        "id": "98h1wLbDnn8n"
      },
      "source": [
        "Shubh started building a basic Python Script which goes through the entire text of a particular book and mugs up all its words. After that it asks you for a word, goes over the times when this word came in the text and gives you the complete sentence in which it was used. You may choose to ask for as many such sentences as the number of occurences of the word.\n",
        "\n",
        "He's managed to come up with the part where he loads the file into Memory. He also managed to come up with snippets of code which could potentially do something if completed, but he has many deadlines to look after and not enough caffeine to turn to code. Can you help him?"
      ],
      "id": "98h1wLbDnn8n"
    },
    {
      "cell_type": "code",
      "metadata": {
        "trusted": true,
        "id": "W2FPoG_Lnn8n",
        "colab": {
          "base_uri": "https://localhost:8080/"
        },
        "outputId": "148db732-b3a9-4d4b-da30-75b5738eb86f"
      },
      "source": [
        "File = open(\"/content/HarryPotterAndTheSorcerersStone.txt\",encoding= 'UTF - 8')     #This helps in opening the file which is to be read\n",
        "\n"
      ],
      "id": "W2FPoG_Lnn8n",
      "execution_count": 49,
      "outputs": [
        {
          "output_type": "stream",
          "text": [
            "(1, 2)\n"
          ],
          "name": "stdout"
        }
      ]
    },
    {
      "cell_type": "markdown",
      "metadata": {
        "id": "6n2G1L6qnn8o"
      },
      "source": [
        "Next he makes a list of all the words present in the novel mapping them to their index(position) in the list of words (i.e. ListOfWords). This is done by mapping every word (a string) to a list (list of indices), and this is stored as a Dictionary (DictionaryoOfWords)\n",
        "\n",
        "\n",
        "\n",
        "He makes use of the readlines() method which is used to extract all the lines from any text and the split() function which could be used to split any sentence into distinct words. The replace() method is used on strings to replace certain segments of the string with something else."
      ],
      "id": "6n2G1L6qnn8o"
    },
    {
      "cell_type": "code",
      "metadata": {
        "trusted": true,
        "id": "wuz-iSaonn8o"
      },
      "source": [
        "DictionaryOfWords = {}         #Dictionary mapping every word to a list (of indices of the words' occurences)\n",
        "Novel = []                     #List of all words in the order, in which they appear!\n",
        "\n",
        "\n",
        "\n",
        "i = 0                   #Counter Variable to keep track of index of words\n",
        "\n",
        "for line in File.readlines():     #Iterate over all lines present in the text\n",
        "    \n",
        "    #Look at Python's Conciseness!\n",
        "    \n",
        "    line = line.replace(\".\",\"\").replace(\",\",\"\").replace('?','').replace('!','').replace('[','').replace(']','')\\\n",
        "    .replace('(','').replace(')','').replace('%','').replace('/','')\n",
        "      \n",
        "    #COMPLETE THE CODE FROM HERE:\n",
        "    \n",
        "    #This would split the line into many different words, and iterate over these words\n",
        "    \n",
        "    for word in line.split(' '): \n",
        "                                                                             \n",
        "        if word in DictionaryOfWords.keys():     #If the word is already present in the dictionary\n",
        "                                                                             \n",
        "              DictionaryOfWords[word].append(i)      #Add the index into the pre-existing list for this word\n",
        "                                                                             \n",
        "        else:\n",
        "              DictionaryOfWords[word]=[i]     #Create a new list of indices for this word, with a single element\n",
        "                                                                             \n",
        "    \n",
        "        Novel.append(word)        #Add the Word in the Novel's ordered list of words\n",
        "                                                                             \n",
        "        i+=1\n",
        "      \n",
        "    "
      ],
      "id": "wuz-iSaonn8o",
      "execution_count": null,
      "outputs": []
    },
    {
      "cell_type": "markdown",
      "metadata": {
        "id": "7Q0xPLDynn8o"
      },
      "source": [
        "That guy truly left a lot of work for you!\n",
        "\n",
        "Now that you've done that, We have the words in the novel alongwith where they appeared in the text loaded into memory (Thanks to You!).\n",
        "\n",
        "The Next Step would be to answer any queries the user may have.\n",
        "\n",
        "To do this, we define the function GetQuery() which returns the word as well as the number of results the user wants to see (as a tuple):\n",
        "\n"
      ],
      "id": "7Q0xPLDynn8o"
    },
    {
      "cell_type": "code",
      "metadata": {
        "trusted": true,
        "id": "rZdPHcyZnn8p"
      },
      "source": [
        "#COMPLETE THE CODE FROM HERE:\n",
        "\n",
        "def GetQuery():\n",
        "    global word\n",
        "    global Number\n",
        "    word = input(\"Type a word \")        #Get Input from the user regarding what word s/he wants to query for\n",
        "\n",
        "    Number = input(\"Type a no. \")      #Get Input from the user regarding how many results the user wants to see\n",
        "\n",
        "    return (word,Number)                 #Return as output a tuple of the word and the Number of results       "
      ],
      "id": "rZdPHcyZnn8p",
      "execution_count": 51,
      "outputs": []
    },
    {
      "cell_type": "markdown",
      "metadata": {
        "id": "f0ExNn2Hnn8p"
      },
      "source": [
        "Now, We need a function which takes as input the index of any particular word and prints the words surrounding it as if they were in an actual sentence. \n",
        "\n",
        "This is done by iterating over the words surrounding it, and printing them with gaps in between. We also assume that this occurence isn't a boundary case and thus, the 10 words surronding it actually exist."
      ],
      "id": "f0ExNn2Hnn8p"
    },
    {
      "cell_type": "code",
      "metadata": {
        "trusted": true,
        "id": "NFjuNsIjnn8q"
      },
      "source": [
        "def PrintContext(index):\n",
        "    \n",
        "    global Novel                          #Declares the list Novel as a Global Variable\n",
        "    \n",
        "    #COMPLETE THE CODE FROM HERE:\n",
        "    \n",
        "    for i in range(index-5,index+6) :           #Define the range so that the task above is fulfilled\n",
        "        \n",
        "        print(Novel[i], end = ' ')          #Print the word (using List Indexing) with a space after that\n",
        "        \n",
        "    print('\\n')"
      ],
      "id": "NFjuNsIjnn8q",
      "execution_count": null,
      "outputs": []
    },
    {
      "cell_type": "markdown",
      "metadata": {
        "id": "WaT0_Nsxnn8q"
      },
      "source": [
        "The result of the GetQuery() function will be passed into a second function which would take as input the word and the number of results to be displayed and do so!"
      ],
      "id": "WaT0_Nsxnn8q"
    },
    {
      "cell_type": "code",
      "metadata": {
        "trusted": true,
        "id": "lJe_w2C0nn8r"
      },
      "source": [
        "def PrintResult(word, NumQuery):\n",
        "  \n",
        "    global DictionaryOfWords                #Allows us to use the Dictionary as a global variable\n",
        "    \n",
        "    #COMPLETE THE CODE FROM HERE:\n",
        "    \n",
        "    L = DictionaryOfWords[word] \n",
        "    \n",
        "    for i in range(0,min(len(L),int(NumQuery))):\n",
        "        \n",
        "        PrintContext(DictionaryOfWords[word][i])             #Actually print the words surrounding the ith occurence of the given word\n",
        "        "
      ],
      "id": "lJe_w2C0nn8r",
      "execution_count": 53,
      "outputs": []
    },
    {
      "cell_type": "markdown",
      "metadata": {
        "id": "JRNRUKLTnn8s"
      },
      "source": [
        "Finally, you need an infinite loop which runs until the user wants it to and asks for the next word (if the user wants to query more) or end the loop."
      ],
      "id": "JRNRUKLTnn8s"
    },
    {
      "cell_type": "code",
      "metadata": {
        "trusted": true,
        "id": "b5LvL0TQnn8s",
        "colab": {
          "base_uri": "https://localhost:8080/"
        },
        "outputId": "e2f05c20-ced9-46ad-835b-33e28a386a07"
      },
      "source": [
        "while 1>0 :   \n",
        "    \n",
        "    Choice = input('Press Y to query or N to end')\n",
        "    \n",
        "    #COMPLETE THE CODE FROM HERE:\n",
        "    \n",
        "    if Choice== 'Y' :                     # If the user wants to query \n",
        "         \n",
        "         PrintResult(*GetQuery())                        #Use some of the past defined function to do so\n",
        "        \n",
        "    else:\n",
        "        \n",
        "        break                                 #Else end the loop"
      ],
      "id": "b5LvL0TQnn8s",
      "execution_count": null,
      "outputs": [
        {
          "output_type": "stream",
          "text": [
            "Press Y to query or N to endY\n",
            "type a word Potter\n",
            "type a no. 2\n",
            "out about the\n",
            " Potters Mrs Potter was Mrs Dursley’s sister but \n",
            "\n",
            "no he was being stupid Potter wasn’t such\n",
            " an unusual name \n",
            "\n",
            "Press Y to query or N to endY\n",
            "type a word The\n",
            "type a no. 5\n",
            "it was possible to be The Dursleys shuddered to\n",
            " think what \n",
            "\n",
            "Potters arrived in the\n",
            " street The Dursleys knew that the Potters \n",
            "\n",
            "and wearing an emerald-green cloak The nerve of\n",
            " him But then \n",
            "\n",
            "yes that would be it The traffic moved on and a \n",
            "\n",
            "4 *\n",
            " *\n",
            " \n",
            " \n",
            " The cat didn’t move It just \n",
            "\n",
            "Press Y to query or N to endY\n",
            "type a word The\n",
            "type a no. 50\n",
            "it was possible to be The Dursleys shuddered to\n",
            " think what \n",
            "\n",
            "Potters arrived in the\n",
            " street The Dursleys knew that the Potters \n",
            "\n",
            "and wearing an emerald-green cloak The nerve of\n",
            " him But then \n",
            "\n",
            "yes that would be it The traffic moved on and a \n",
            "\n",
            "4 *\n",
            " *\n",
            " \n",
            " \n",
            " The cat didn’t move It just \n",
            "\n",
            "suddenly changed their sleeping pattern” The newscaster al¬\n",
            " lowed himself a \n",
            "\n",
            "into the front gar¬\n",
            " den The cat was still there It \n",
            "\n",
            "he could bear it\n",
            " \n",
            " The Dursleys got into bed Mrs \n",
            "\n",
            "near him and\n",
            " Mrs Dursley The Potters knew very well what \n",
            "\n",
            "popped out of the ground The cat’s tail twitched and its \n",
            "\n",
            "the air and clicked it The nearest street lamp went out \n",
            "\n",
            "to find the Pot¬\n",
            " ters The rumor is that Lily and \n",
            "\n",
            "had hardly changed at all The sun rose on the same \n",
            "\n",
            "and kissed by his\n",
            " mother The room held no sign at \n",
            "\n",
            "* 4\n",
            " *\n",
            " \n",
            " \n",
            " The v iktc gu^ss\n",
            " \n",
            " \n",
            " \n",
            "\n",
            "the hall into the kitchen\n",
            " The table was almost hidden beneath \n",
            "\n",
            "punched him on the nose The only thing Harry liked about \n",
            "\n",
            "* 4\n",
            " *\n",
            " \n",
            " \n",
            " The v iktc gh^ss\n",
            " \n",
            " \n",
            " \n",
            "\n",
            "she hates the boy”\n",
            " \n",
            " The Dursleys often spoke about Harry \n",
            "\n",
            "* 4\n",
            " *\n",
            " \n",
            " \n",
            " The v iktc ga^ss\n",
            " \n",
            " \n",
            " \n",
            "\n",
            "No one ever did\n",
            " \n",
            " The problem was strange things often \n",
            "\n",
            "brown with orange puff balls\n",
            " The harder she tried to pull \n",
            "\n",
            "* 4\n",
            " *\n",
            " \n",
            " \n",
            " The v iktc gh^ss\n",
            " \n",
            " \n",
            " \n",
            "\n",
            "was sitting on the chimney The Dursleys had re¬\n",
            " ceived a \n",
            "\n",
            "was crowded with fam¬\n",
            " ilies The Dursleys bought Dudley and Piers \n",
            "\n",
            "* 4\n",
            " *\n",
            " \n",
            " \n",
            " The v iktc ga^ss\n",
            " \n",
            " \n",
            " \n",
            "\n",
            "rest of the house\n",
            " \n",
            " The snake suddenly opened its beady \n",
            "\n",
            "snake and\n",
            " winked too\n",
            " \n",
            " The snake jerked its head toward \n",
            "\n",
            "must be really annoying”\n",
            " \n",
            " The snake nodded vigorously\n",
            " \n",
            " “Where \n",
            "\n",
            "from anyway” Harry asked\n",
            " \n",
            " The snake jabbed its tail at \n",
            "\n",
            "“Was it nice there”\n",
            " \n",
            " The boa constrictor jabbed its tail \n",
            "\n",
            "boa constrictor’s\n",
            " tank had vanished The great snake was uncoiling itself \n",
            "\n",
            "  Thanksss amigo”\n",
            " \n",
            " The keeper of the reptile house \n",
            "\n",
            "* 4\n",
            " *\n",
            " \n",
            " \n",
            " The v iktc gh^ss\n",
            " \n",
            " \n",
            " \n",
            "\n",
            "did the glass go”\n",
            " \n",
            " The zoo director himself made Aunt \n",
            "\n",
            "walked away without a word The weirdest thing about all\n",
            " these \n",
            "\n",
            "lot he was the leader The rest of\n",
            " them were all \n",
            "\n",
            "went to have a look The tub was full of\n",
            " what \n",
            "\n",
            "Wive\n",
            " UH-le vJk'mg'mg\n",
            " “Survey\n",
            " \n",
            " The envelope was thick and heavy \n",
            "\n",
            "stuff up¬\n",
            " stairs now”\n",
            " \n",
            " The Dursleys’ house had four bedrooms: \n",
            "\n",
            "everything in here was broken The month-old\n",
            " video camera was lying \n",
            "\n",
            "another one ‘Mr H Potter The Small¬\n",
            " est Bedroom 4 Privet \n",
            "\n",
            "He had a\n",
            " plan\n",
            " \n",
            " The repaired alarm clock rang at \n",
            "\n",
            "of the fireplace like\n",
            " bullets The Dursleys ducked but Harry leapt \n",
            "\n",
            "hand out of the way The woman stared\n",
            " \n",
            " “I’ll take \n",
            "\n",
            "to the broken-down house\n",
            " \n",
            " The inside was horrible; it smelled \n",
            "\n",
            "thinnest most ragged blanket\n",
            " \n",
            " The storm raged more and more \n",
            "\n",
            "that started near mid¬\n",
            " night The lighted dial of Dudley’s watch \n",
            "\n",
            " \n",
            " \n",
            " BOOM\n",
            " \n",
            " The whole shack shivered and Harry \n",
            "\n",
            "Then —\n",
            " \n",
            " SMASH\n",
            " \n",
            " The door was hit with such \n",
            "\n"
          ],
          "name": "stdout"
        }
      ]
    }
  ]
}